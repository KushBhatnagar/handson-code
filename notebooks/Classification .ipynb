{
 "cells": [
  {
   "attachments": {},
   "cell_type": "markdown",
   "id": "8968b949",
   "metadata": {},
   "source": [
    "# Objective\n",
    "This notebook will focus on following items:\n",
    "1. Solve Classification problem like **Spam Classifier**\n",
    "2. Develop **modular code** i.e. functions for every step of solution, like function to download data and pre-processing\n",
    "3. Create **Scikit-learn pipelines** from data processing to deployment\n",
    "4. Create **REST API** for predict function and **Gradio or Streamlit web app** to showcase the functionality"
   ]
  },
  {
   "cell_type": "code",
   "execution_count": null,
   "id": "af340435",
   "metadata": {},
   "outputs": [],
   "source": []
  }
 ],
 "metadata": {
  "kernelspec": {
   "display_name": "Python 3 (ipykernel)",
   "language": "python",
   "name": "python3"
  },
  "language_info": {
   "codemirror_mode": {
    "name": "ipython",
    "version": 3
   },
   "file_extension": ".py",
   "mimetype": "text/x-python",
   "name": "python",
   "nbconvert_exporter": "python",
   "pygments_lexer": "ipython3",
   "version": "3.10.4"
  }
 },
 "nbformat": 4,
 "nbformat_minor": 5
}
